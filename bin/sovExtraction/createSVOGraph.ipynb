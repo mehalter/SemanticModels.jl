{
 "cells": [
  {
   "cell_type": "code",
   "execution_count": 99,
   "metadata": {
    "scrolled": true
   },
   "outputs": [],
   "source": [
    "using Pkg\n",
    "using DataFrames\n",
    "using CSV\n",
    "using GraphDataFrameBridge\n",
    "using MetaGraphs\n",
    "\n",
    "\n",
    "\n",
    "\n"
   ]
  },
  {
   "cell_type": "code",
   "execution_count": 103,
   "metadata": {},
   "outputs": [
    {
     "name": "stderr",
     "output_type": "stream",
     "text": [
      "┌ Warning: readtable is deprecated, use CSV.read from the CSV package instead\n",
      "│   caller = top-level scope at In[103]:1\n",
      "└ @ Core In[103]:1\n"
     ]
    },
    {
     "data": {
      "text/plain": [
       "{185, 121} directed Int64 metagraph with Float64 weights defined by :weight (default weight 1.0)"
      ]
     },
     "execution_count": 103,
     "metadata": {},
     "output_type": "execute_result"
    }
   ],
   "source": [
    "df = readtable(\"svoOutput/svo.csv\")\n",
    "mg = MetaDiGraph(df, :subject, :object, edge_attributes=:verb)\n",
    "\n",
    "\n",
    "\n"
   ]
  },
  {
   "cell_type": "code",
   "execution_count": 104,
   "metadata": {},
   "outputs": [
    {
     "data": {
      "text/plain": [
       "2"
      ]
     },
     "execution_count": 104,
     "metadata": {},
     "output_type": "execute_result"
    }
   ],
   "source": [
    "typeof(mg)\n",
    "\n",
    "savegraph(\"svoMG.dot\", mg, DOTFormat())"
   ]
  },
  {
   "cell_type": "code",
   "execution_count": 87,
   "metadata": {},
   "outputs": [
    {
     "name": "stdout",
     "output_type": "stream",
     "text": [
      "search: \u001b[0m\u001b[1ms\u001b[22m\u001b[0m\u001b[1ma\u001b[22m\u001b[0m\u001b[1mv\u001b[22m\u001b[0m\u001b[1me\u001b[22m\u001b[0m\u001b[1mg\u001b[22m\u001b[0m\u001b[1mr\u001b[22m\u001b[0m\u001b[1ma\u001b[22m\u001b[0m\u001b[1mp\u001b[22m\u001b[0m\u001b[1mh\u001b[22m\n",
      "\n"
     ]
    },
    {
     "data": {
      "text/latex": [
       "\\begin{verbatim}\n",
       "savegraph(file, g, gname=\"graph\", format=LGFormat)\n",
       "\\end{verbatim}\n",
       "Saves a graph \\texttt{g} with name \\texttt{gname} to \\texttt{file} in the format \\texttt{format}. Return the number of graphs written.\n",
       "\n",
       "\\subsubsection{Implementation Notes}\n",
       "The default graph name assigned to \\texttt{gname} may change in the future.\n",
       "\n",
       "\\rule{\\textwidth}{1pt}\n",
       "\\begin{verbatim}\n",
       "savegraph(file, g, d, format=LGFormat)\n",
       "\\end{verbatim}\n",
       "Save a dictionary of \\texttt{graphname => graph} to \\texttt{file} in the format \\texttt{format}. Return the number of graphs written.\n",
       "\n",
       "\\subsubsection{Implementation Notes}\n",
       "Will only work if the file format supports multiple graph types.\n",
       "\n"
      ],
      "text/markdown": [
       "```\n",
       "savegraph(file, g, gname=\"graph\", format=LGFormat)\n",
       "```\n",
       "\n",
       "Saves a graph `g` with name `gname` to `file` in the format `format`. Return the number of graphs written.\n",
       "\n",
       "### Implementation Notes\n",
       "\n",
       "The default graph name assigned to `gname` may change in the future.\n",
       "\n",
       "---\n",
       "\n",
       "```\n",
       "savegraph(file, g, d, format=LGFormat)\n",
       "```\n",
       "\n",
       "Save a dictionary of `graphname => graph` to `file` in the format `format`. Return the number of graphs written.\n",
       "\n",
       "### Implementation Notes\n",
       "\n",
       "Will only work if the file format supports multiple graph types.\n"
      ],
      "text/plain": [
       "\u001b[36m  savegraph(file, g, gname=\"graph\", format=LGFormat)\u001b[39m\n",
       "\n",
       "  Saves a graph \u001b[36mg\u001b[39m with name \u001b[36mgname\u001b[39m to \u001b[36mfile\u001b[39m in the format \u001b[36mformat\u001b[39m. Return the\n",
       "  number of graphs written.\n",
       "\n",
       "\u001b[1m  Implementation Notes\u001b[22m\n",
       "\u001b[1m  ––––––––––––––––––––––\u001b[22m\n",
       "\n",
       "  The default graph name assigned to \u001b[36mgname\u001b[39m may change in the future.\n",
       "\n",
       "  ────────────────────────────────────────────────────────────────────────────\n",
       "\n",
       "\u001b[36m  savegraph(file, g, d, format=LGFormat)\u001b[39m\n",
       "\n",
       "  Save a dictionary of \u001b[36mgraphname => graph\u001b[39m to \u001b[36mfile\u001b[39m in the format \u001b[36mformat\u001b[39m. Return\n",
       "  the number of graphs written.\n",
       "\n",
       "\u001b[1m  Implementation Notes\u001b[22m\n",
       "\u001b[1m  ––––––––––––––––––––––\u001b[22m\n",
       "\n",
       "  Will only work if the file format supports multiple graph types."
      ]
     },
     "execution_count": 87,
     "metadata": {},
     "output_type": "execute_result"
    }
   ],
   "source": [
    "?savegraph"
   ]
  },
  {
   "cell_type": "code",
   "execution_count": null,
   "metadata": {},
   "outputs": [],
   "source": []
  }
 ],
 "metadata": {
  "kernelspec": {
   "display_name": "Julia 1.0.3",
   "language": "julia",
   "name": "julia-1.0"
  },
  "language_info": {
   "file_extension": ".jl",
   "mimetype": "application/julia",
   "name": "julia",
   "version": "1.0.3"
  }
 },
 "nbformat": 4,
 "nbformat_minor": 2
}
