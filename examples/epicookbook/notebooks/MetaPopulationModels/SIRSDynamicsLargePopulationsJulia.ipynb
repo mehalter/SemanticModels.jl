{
 "cells": [
  {
   "cell_type": "code",
   "execution_count": 1,
   "metadata": {},
   "outputs": [],
   "source": [
    "using DifferentialEquations\n",
    "using LinearAlgebra"
   ]
  },
  {
   "cell_type": "code",
   "execution_count": 2,
   "metadata": {},
   "outputs": [],
   "source": [
    "# Set the required model parameters for the SIRS model with two levels of transmission - Within and between households\n",
    "N = 10; # Household size - Change to 10 for final analysis\n",
    "betaHH = 6; # Within household transmission parameter\n",
    "betaG = 1; # Population wide transmission\n",
    "gamma = 1; # Rate of recovery from infection\n",
    "tau = 1; # Rate of loss of protection\n",
    "params = [betaHH,gamma,tau,betaG,N]; # Put all the parameters together\n",
    "time = (0.0, 30.0) # Simulation time - note it defined as a float\n",
    "dim = dim = convert(Int,0.5*(N+1)*(N+2)); # Number of possible configurations - works for three epidemiological classes\n",
    "y0 = vec(zeros(1, dim)); # Initial condition vector\n",
    "y0[end-1] = 0.00000001;\n",
    "y0[end] = 0.99999999;"
   ]
  },
  {
   "cell_type": "code",
   "execution_count": 3,
   "metadata": {},
   "outputs": [],
   "source": [
    "function hhTransitions(N,dim)\n",
    "    # Function to generate transition matrices for household model\n",
    "    # Input: N is the household size\n",
    "    \n",
    "    # Initialize things\n",
    "    Qinf = zeros(dim,dim);\n",
    "    Qrec = zeros(dim,dim);\n",
    "    Qext = zeros(dim,dim);\n",
    "    Qwane = zeros(dim,dim);\n",
    "    dataI = Array{Int64}(zeros(dim,3))\n",
    "    m = 0;\n",
    "    I = Array{Int64}(zeros(N+1,N+1))\n",
    "    \n",
    "    # To help remember where to store the variables\n",
    "    for ss = 0:N\n",
    "        for ii = 0:(N-ss)\n",
    "            m = m + 1;\n",
    "            I[ss+1,ii+1] = m\n",
    "        end\n",
    "    end\n",
    "    \n",
    "    # Describe the epidemiological transitions\n",
    "    \n",
    "    # Counter for susceptibles\n",
    "    for ss = 0:N\n",
    "        # Counter for infecteds\n",
    "        for ii = 0:(N-ss) \n",
    "            # If susceptibles and infecteds are more than 1, then infection within the household can occur\n",
    "            if (ss > 0 && ii > 0) \n",
    "                Qinf[I[ss+1,ii+1],I[ss,ii+2]] = ii*ss/(N-1);\n",
    "            end\n",
    "            \n",
    "            # If infecteds are more than 1, recovery can occur\n",
    "            if ii > 0\n",
    "                # Rate of recovery\n",
    "                Qrec[I[ss+1,ii+1],I[ss+1,ii]] = ii; \n",
    "            end\n",
    "            \n",
    "            # For external infection - just keep track of susceptibles\n",
    "            if ss > 0           \n",
    "                # Rate of within household infection\n",
    "                Qext[I[ss+1,ii+1],I[ss,ii+2]] = ss;           \n",
    "            end\n",
    "            \n",
    "            # Loss of protection hence becoming susceptible again. Possible if N-ss-ii = rr > 0 \n",
    "            if (N-ss-ii) > 0\n",
    "                # Rate of loss of protection\n",
    "                Qwane[I[ss+1,ii+1],I[ss+2,ii+1]] = N-ss-ii;\n",
    "            end\n",
    "            \n",
    "            # Store the relevant indices to help identify the household configurations\n",
    "            dataI[I[ss+1,ii+1],:] = [ss, ii, N-ss-ii];\n",
    "        end\n",
    "    end\n",
    "\n",
    "    Qinf = Qinf - diagm(0=>vec(sum(Qinf,dims=2)));\n",
    "    Qrec = Qrec - diagm(0=>vec(sum(Qrec,dims=2)));\n",
    "    Qext = Qext - diagm(0=>vec(sum(Qext,dims=2)));\n",
    "    Qwane = Qwane - diagm(0=>vec(sum(Qwane,dims=2)));\n",
    "    \n",
    "    # Return\n",
    "    return Qinf, Qrec, Qext, Qwane, dataI\n",
    "end\n",
    "Qinf, Qrec, Qext, Qwane, dataI = hhTransitions(N,dim);"
   ]
  },
  {
   "cell_type": "code",
   "execution_count": 10,
   "metadata": {},
   "outputs": [],
   "source": [
    "function rateSIRS(dy_dt,y0,params,time)\n",
    "    \n",
    "    # Extract the parameters\n",
    "    betaHH = params[1];\n",
    "    gamma = params[2];\n",
    "    tau = params[3];\n",
    "    betaG = params[4];\n",
    "    N = params[5];\n",
    "    \n",
    "    # Generate the transition matrices\n",
    "    Qinf, Qrec, Qext, Qwane, HHconfig = hhTransitions(N,dim);\n",
    "    \n",
    "    # Combine within and external transitions\n",
    "    Q = betaHH*Qinf + gamma*Qrec + tau*Qwane + betaG*Qext*((HHconfig[:,2]'*y0)/N);\n",
    "    \n",
    "    # Generate the rates of change for ODE solver\n",
    "    dy_dt .= (y0'*Q)';\n",
    "    \n",
    "end\n",
    "\n",
    "# Define the ODE problem\n",
    "prob = ODEProblem(rateSIRS,y0,time,params);\n",
    "\n",
    "# Solve\n",
    "sol = solve(prob, alg=Tsit5());"
   ]
  },
  {
   "cell_type": "code",
   "execution_count": 5,
   "metadata": {},
   "outputs": [],
   "source": [
    "using Plots\n",
    "#using RecursiveArrayTools"
   ]
  },
  {
   "cell_type": "code",
   "execution_count": 6,
   "metadata": {},
   "outputs": [],
   "source": [
    "Iconfig = dataI[:,2];\n",
    "infProp = zeros(length(sol.t),1);\n",
    "\n",
    "# Prepare the plots\n",
    "for i = 1:length(sol.t)\n",
    "    infProp[i,1] = sol[:,i]'*Iconfig/N;\n",
    "end\n"
   ]
  },
  {
   "cell_type": "code",
   "execution_count": 13,
   "metadata": {},
   "outputs": [],
   "source": [
    "# Total infectious in the population\n",
    "plot(sol.t, infProp,\n",
    "    color=\"blue\",xlabel=\"Time\",\n",
    "    ylabel=\"Proportion infectious\",\n",
    "    label=[\"Mean infection\"],\n",
    "    ylims=[0, 1]);"
   ]
  },
  {
   "cell_type": "code",
   "execution_count": 14,
   "metadata": {},
   "outputs": [],
   "source": [
    "# Household profile at endemic prevalence\n",
    "# Prepare the plots\n",
    "using Plots\n",
    "yprop = zeros(N+1,length(sol.t))\n",
    "for j = 1:length(sol.t)\n",
    "    for i = 1:N+1\n",
    "        index = findall(Iconfig.==i-1);\n",
    "        yprop[i,j] = sum(sol[index,j])\n",
    "    end\n",
    "end\n",
    "plot(-0.5:1:10.5,[yprop[:,length(sol.t)];0]);"
   ]
  },
  {
   "cell_type": "code",
   "execution_count": 15,
   "metadata": {},
   "outputs": [],
   "source": [
    "# Household profile at peak prevalence\n",
    "# Prepare the plots\n",
    "x = findall(infProp.==maximum(infProp))\n",
    "plot(-0.5:1:10.5,[yprop[:,x];0]);"
   ]
  },
  {
   "cell_type": "code",
   "execution_count": null,
   "metadata": {},
   "outputs": [],
   "source": []
  }
 ],
 "metadata": {
  "anaconda-cloud": {},
  "kernelspec": {
   "display_name": "Julia 1.0.3",
   "language": "julia",
   "name": "julia-1.0"
  },
  "language_info": {
   "file_extension": ".jl",
   "mimetype": "application/julia",
   "name": "julia",
   "version": "1.0.3"
  }
 },
 "nbformat": 4,
 "nbformat_minor": 2
}
